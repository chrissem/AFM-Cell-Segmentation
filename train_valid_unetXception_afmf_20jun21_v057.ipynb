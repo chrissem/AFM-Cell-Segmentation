{
 "cells": [
  {
   "cell_type": "code",
   "execution_count": 1,
   "metadata": {},
   "outputs": [],
   "source": [
    "from modelUXception import *\n",
    "from data_3ch import *\n",
    "\n",
    "vid=\"v057_5\" #version id should match the file number \n",
    "# The final number can be [1:5] and denotes the cross-validation order\n",
    "# Ran DellWS with GeForce RTX3060 GPU"
   ]
  },
  {
   "cell_type": "markdown",
   "metadata": {},
   "source": [
    "### Train with data generator"
   ]
  },
  {
   "cell_type": "code",
   "execution_count": 2,
   "metadata": {},
   "outputs": [
    {
     "name": "stderr",
     "output_type": "stream",
     "text": [
      "C:\\Users\\tiryakiv\\miniconda3\\envs\\tf-latest\\lib\\site-packages\\tensorflow\\python\\keras\\engine\\training.py:1940: UserWarning: `Model.fit_generator` is deprecated and will be removed in a future version. Please use `Model.fit`, which supports generators.\n",
      "  warnings.warn('`Model.fit_generator` is deprecated and '\n"
     ]
    },
    {
     "name": "stdout",
     "output_type": "stream",
     "text": [
      "Found 24 images belonging to 1 classes.\n",
      "Found 24 images belonging to 1 classes.\n",
      "Epoch 1/100\n",
      "160/160 [==============================] - ETA: 0s - loss: 0.2494 - acc: 0.9085 - dice_coef: 0.7506 - iou: 0.6280Found 6 images belonging to 1 classes.\n",
      "Found 6 images belonging to 1 classes.\n",
      "160/160 [==============================] - 107s 509ms/step - loss: 0.2494 - acc: 0.9085 - dice_coef: 0.7506 - iou: 0.6280 - val_loss: 0.3166 - val_acc: 0.8852 - val_dice_coef: 0.6834 - val_iou: 0.5214\n",
      "\n",
      "Epoch 00001: saving model to files\\unet_cell_seg_v057_5.hdf5\n"
     ]
    },
    {
     "name": "stderr",
     "output_type": "stream",
     "text": [
      "C:\\Users\\tiryakiv\\miniconda3\\envs\\tf-latest\\lib\\site-packages\\tensorflow\\python\\keras\\utils\\generic_utils.py:494: CustomMaskWarning: Custom mask layers require a config and must override get_config. When loading, the custom mask layer must be passed to the custom_objects argument.\n",
      "  warnings.warn('Custom mask layers require a config and must override '\n"
     ]
    },
    {
     "name": "stdout",
     "output_type": "stream",
     "text": [
      "Epoch 2/100\n",
      "160/160 [==============================] - 79s 494ms/step - loss: 0.1135 - acc: 0.9664 - dice_coef: 0.8865 - iou: 0.8032 - val_loss: 0.1558 - val_acc: 0.9416 - val_dice_coef: 0.8442 - val_iou: 0.7310\n",
      "\n",
      "Epoch 00002: saving model to files\\unet_cell_seg_v057_5.hdf5\n",
      "Epoch 3/100\n",
      "160/160 [==============================] - 77s 481ms/step - loss: 0.0889 - acc: 0.9734 - dice_coef: 0.9111 - iou: 0.8411 - val_loss: 0.0818 - val_acc: 0.9726 - val_dice_coef: 0.9182 - val_iou: 0.8497\n",
      "\n",
      "Epoch 00003: saving model to files\\unet_cell_seg_v057_5.hdf5\n",
      "Epoch 4/100\n",
      "160/160 [==============================] - 80s 498ms/step - loss: 0.0826 - acc: 0.9760 - dice_coef: 0.9174 - iou: 0.8528 - val_loss: 0.0786 - val_acc: 0.9795 - val_dice_coef: 0.9214 - val_iou: 0.8545\n",
      "\n",
      "Epoch 00004: saving model to files\\unet_cell_seg_v057_5.hdf5\n",
      "Epoch 5/100\n",
      "160/160 [==============================] - 79s 496ms/step - loss: 0.0784 - acc: 0.9773 - dice_coef: 0.9216 - iou: 0.8605 - val_loss: 0.0604 - val_acc: 0.9751 - val_dice_coef: 0.9396 - val_iou: 0.8862\n",
      "\n",
      "Epoch 00005: saving model to files\\unet_cell_seg_v057_5.hdf5\n",
      "Epoch 6/100\n",
      "160/160 [==============================] - 79s 493ms/step - loss: 0.0647 - acc: 0.9791 - dice_coef: 0.9353 - iou: 0.8813 - val_loss: 0.0486 - val_acc: 0.9738 - val_dice_coef: 0.9514 - val_iou: 0.9073\n",
      "\n",
      "Epoch 00006: saving model to files\\unet_cell_seg_v057_5.hdf5\n",
      "Epoch 7/100\n",
      "160/160 [==============================] - 78s 488ms/step - loss: 0.0623 - acc: 0.9800 - dice_coef: 0.9377 - iou: 0.8851 - val_loss: 0.0488 - val_acc: 0.9786 - val_dice_coef: 0.9512 - val_iou: 0.9070\n",
      "\n",
      "Epoch 00007: saving model to files\\unet_cell_seg_v057_5.hdf5\n",
      "Epoch 8/100\n",
      "160/160 [==============================] - 79s 495ms/step - loss: 0.0592 - acc: 0.9807 - dice_coef: 0.9408 - iou: 0.8903 - val_loss: 0.0515 - val_acc: 0.9839 - val_dice_coef: 0.9485 - val_iou: 0.9022\n",
      "\n",
      "Epoch 00008: saving model to files\\unet_cell_seg_v057_5.hdf5\n",
      "Epoch 9/100\n",
      "160/160 [==============================] - 78s 489ms/step - loss: 0.0565 - acc: 0.9813 - dice_coef: 0.9435 - iou: 0.8950 - val_loss: 0.0495 - val_acc: 0.9794 - val_dice_coef: 0.9505 - val_iou: 0.9057\n",
      "\n",
      "Epoch 00009: saving model to files\\unet_cell_seg_v057_5.hdf5\n",
      "\n",
      "Epoch 00009: ReduceLROnPlateau reducing learning rate to 9.999999747378752e-06.\n",
      "Epoch 10/100\n",
      "160/160 [==============================] - 79s 493ms/step - loss: 0.0535 - acc: 0.9820 - dice_coef: 0.9465 - iou: 0.9007 - val_loss: 0.0439 - val_acc: 0.9741 - val_dice_coef: 0.9561 - val_iou: 0.9159\n",
      "\n",
      "Epoch 00010: saving model to files\\unet_cell_seg_v057_5.hdf5\n",
      "Epoch 11/100\n",
      "160/160 [==============================] - 77s 483ms/step - loss: 0.0523 - acc: 0.9821 - dice_coef: 0.9477 - iou: 0.9026 - val_loss: 0.0445 - val_acc: 0.9796 - val_dice_coef: 0.9555 - val_iou: 0.9148\n",
      "\n",
      "Epoch 00011: saving model to files\\unet_cell_seg_v057_5.hdf5\n",
      "Epoch 12/100\n",
      "160/160 [==============================] - 80s 500ms/step - loss: 0.0534 - acc: 0.9823 - dice_coef: 0.9466 - iou: 0.9007 - val_loss: 0.0428 - val_acc: 0.9726 - val_dice_coef: 0.9572 - val_iou: 0.9179\n",
      "\n",
      "Epoch 00012: saving model to files\\unet_cell_seg_v057_5.hdf5\n",
      "Epoch 13/100\n",
      "160/160 [==============================] - 78s 489ms/step - loss: 0.0541 - acc: 0.9822 - dice_coef: 0.9459 - iou: 0.9001 - val_loss: 0.0452 - val_acc: 0.9801 - val_dice_coef: 0.9548 - val_iou: 0.9137\n",
      "\n",
      "Epoch 00013: saving model to files\\unet_cell_seg_v057_5.hdf5\n",
      "Epoch 14/100\n",
      "160/160 [==============================] - 79s 491ms/step - loss: 0.0536 - acc: 0.9824 - dice_coef: 0.9464 - iou: 0.9006 - val_loss: 0.0440 - val_acc: 0.9801 - val_dice_coef: 0.9560 - val_iou: 0.9157\n",
      "\n",
      "Epoch 00014: saving model to files\\unet_cell_seg_v057_5.hdf5\n",
      "Epoch 15/100\n",
      "160/160 [==============================] - 78s 490ms/step - loss: 0.0501 - acc: 0.9826 - dice_coef: 0.9499 - iou: 0.9060 - val_loss: 0.0424 - val_acc: 0.9804 - val_dice_coef: 0.9576 - val_iou: 0.9186\n",
      "\n",
      "Epoch 00015: saving model to files\\unet_cell_seg_v057_5.hdf5\n",
      "Epoch 16/100\n",
      "160/160 [==============================] - 78s 490ms/step - loss: 0.0528 - acc: 0.9825 - dice_coef: 0.9472 - iou: 0.9021 - val_loss: 0.0407 - val_acc: 0.9806 - val_dice_coef: 0.9593 - val_iou: 0.9218\n",
      "\n",
      "Epoch 00016: saving model to files\\unet_cell_seg_v057_5.hdf5\n",
      "Epoch 17/100\n",
      "160/160 [==============================] - 79s 491ms/step - loss: 0.0485 - acc: 0.9827 - dice_coef: 0.9515 - iou: 0.9089 - val_loss: 0.0445 - val_acc: 0.9796 - val_dice_coef: 0.9555 - val_iou: 0.9149\n",
      "\n",
      "Epoch 00017: saving model to files\\unet_cell_seg_v057_5.hdf5\n",
      "Epoch 18/100\n",
      "160/160 [==============================] - 79s 495ms/step - loss: 0.0514 - acc: 0.9827 - dice_coef: 0.9486 - iou: 0.9046 - val_loss: 0.0405 - val_acc: 0.9756 - val_dice_coef: 0.9595 - val_iou: 0.9222\n",
      "\n",
      "Epoch 00018: saving model to files\\unet_cell_seg_v057_5.hdf5\n",
      "Epoch 19/100\n",
      "160/160 [==============================] - 78s 489ms/step - loss: 0.0504 - acc: 0.9827 - dice_coef: 0.9496 - iou: 0.9058 - val_loss: 0.0474 - val_acc: 0.9797 - val_dice_coef: 0.9526 - val_iou: 0.9097\n",
      "\n",
      "Epoch 00019: saving model to files\\unet_cell_seg_v057_5.hdf5\n",
      "Epoch 20/100\n",
      "160/160 [==============================] - 79s 495ms/step - loss: 0.0505 - acc: 0.9828 - dice_coef: 0.9495 - iou: 0.9063 - val_loss: 0.0394 - val_acc: 0.9835 - val_dice_coef: 0.9606 - val_iou: 0.9241\n",
      "\n",
      "Epoch 00020: saving model to files\\unet_cell_seg_v057_5.hdf5\n",
      "Epoch 21/100\n",
      "160/160 [==============================] - 78s 490ms/step - loss: 0.0493 - acc: 0.9829 - dice_coef: 0.9507 - iou: 0.9078 - val_loss: 0.0431 - val_acc: 0.9802 - val_dice_coef: 0.9569 - val_iou: 0.9173\n",
      "\n",
      "Epoch 00021: saving model to files\\unet_cell_seg_v057_5.hdf5\n",
      "Epoch 22/100\n",
      "160/160 [==============================] - 79s 494ms/step - loss: 0.0502 - acc: 0.9829 - dice_coef: 0.9498 - iou: 0.9069 - val_loss: 0.0397 - val_acc: 0.9764 - val_dice_coef: 0.9603 - val_iou: 0.9235\n",
      "\n",
      "Epoch 00022: saving model to files\\unet_cell_seg_v057_5.hdf5\n",
      "Epoch 23/100\n",
      "160/160 [==============================] - 80s 500ms/step - loss: 0.0484 - acc: 0.9830 - dice_coef: 0.9516 - iou: 0.9092 - val_loss: 0.0412 - val_acc: 0.9801 - val_dice_coef: 0.9588 - val_iou: 0.9209\n",
      "\n",
      "Epoch 00023: saving model to files\\unet_cell_seg_v057_5.hdf5\n",
      "\n",
      "Epoch 00023: ReduceLROnPlateau reducing learning rate to 9.999999747378752e-07.\n",
      "Epoch 24/100\n",
      "160/160 [==============================] - 80s 498ms/step - loss: 0.0469 - acc: 0.9832 - dice_coef: 0.9531 - iou: 0.9118 - val_loss: 0.0499 - val_acc: 0.9833 - val_dice_coef: 0.9501 - val_iou: 0.9050\n",
      "\n",
      "Epoch 00024: saving model to files\\unet_cell_seg_v057_5.hdf5\n",
      "Epoch 25/100\n",
      "160/160 [==============================] - 78s 490ms/step - loss: 0.0494 - acc: 0.9831 - dice_coef: 0.9506 - iou: 0.9084 - val_loss: 0.0406 - val_acc: 0.9811 - val_dice_coef: 0.9594 - val_iou: 0.9220\n",
      "\n",
      "Epoch 00025: saving model to files\\unet_cell_seg_v057_5.hdf5\n",
      "Epoch 00025: early stopping\n"
     ]
    },
    {
     "data": {
      "text/plain": [
       "<tensorflow.python.keras.callbacks.History at 0x26816816e50>"
      ]
     },
     "execution_count": 2,
     "metadata": {},
     "output_type": "execute_result"
    }
   ],
   "source": [
    "from tensorflow.keras.callbacks import ModelCheckpoint, ReduceLROnPlateau, EarlyStopping, CSVLogger\n",
    "\n",
    "#Data augmentation\n",
    "data_gen_args = dict(rotation_range=45,\n",
    "                    width_shift_range=0.05,\n",
    "                    height_shift_range=0.05,\n",
    "                    shear_range=0.05,\n",
    "                    zoom_range=0.05,\n",
    "                    horizontal_flip=True,\n",
    "                    vertical_flip=True,\n",
    "                    fill_mode='wrap')\n",
    "\n",
    "batch_size=3\n",
    "learning_rate=1e-4\n",
    "loss=dice_loss\n",
    "\n",
    "train_gen = trainGenerator(batch_size,'afm_cell_512/train0'+vid[-1],'afmheideffri','labels',data_gen_args,save_to_dir = None)\n",
    "valid_gen = trainGenerator(batch_size,'afm_cell_512/valid0'+vid[-1],'afmheideffri','labels',data_gen_args,save_to_dir = None)\n",
    "\n",
    "# 26 images are used for training, 4 images for validating and 4 images for testing\n",
    "train_steps = 24//batch_size\n",
    "valid_steps = 6//batch_size\n",
    "\n",
    "model = UXception()\n",
    "\n",
    "opt = tf.keras.optimizers.Adam(learning_rate)\n",
    "metrics = [\"acc\", dice_coef, iou]\n",
    "model.compile(loss=loss, optimizer=opt, metrics=metrics)\n",
    "\n",
    "callbacks = [\n",
    "             ModelCheckpoint('files/unet_cell_seg_'+vid+'.hdf5', verbose=1, save_best_model=True),\n",
    "             ReduceLROnPlateau(monitor=\"val_loss\", patience=3, factor=0.1, verbose=1, min_lr=1e-8),\n",
    "             CSVLogger(\"files/data_\"+vid+\".csv\"),\n",
    "             EarlyStopping(monitor=\"val_loss\", patience=5, verbose=1)\n",
    "            ]\n",
    "\n",
    "model.fit_generator(train_gen, validation_data=valid_gen, steps_per_epoch=20*train_steps, validation_steps=valid_steps, \n",
    "                    epochs=100, callbacks=callbacks)\n"
   ]
  },
  {
   "cell_type": "markdown",
   "metadata": {},
   "source": [
    "### validate your model and save predicted results"
   ]
  },
  {
   "cell_type": "code",
   "execution_count": 3,
   "metadata": {},
   "outputs": [
    {
     "name": "stderr",
     "output_type": "stream",
     "text": [
      "C:\\Users\\tiryakiv\\miniconda3\\envs\\tf-latest\\lib\\site-packages\\tensorflow\\python\\keras\\engine\\training.py:2001: UserWarning: `Model.predict_generator` is deprecated and will be removed in a future version. Please use `Model.predict`, which supports generators.\n",
      "  warnings.warn('`Model.predict_generator` is deprecated and '\n"
     ]
    },
    {
     "name": "stdout",
     "output_type": "stream",
     "text": [
      "6/6 [==============================] - 4s 110ms/step\n"
     ]
    }
   ],
   "source": [
    "validGene = testGenerator(\"afm_cell_512/valid0\"+vid[-1]+\"/predhdf\")\n",
    "model.load_weights(\"files/unet_cell_seg_\"+vid+\".hdf5\")\n",
    "results = model.predict_generator(validGene,6,verbose=1)\n",
    "saveResult(\"afm_cell_512/valid0\"+vid[-1]+\"/predhdf\",results,vid[:4])"
   ]
  }
 ],
 "metadata": {
  "kernelspec": {
   "display_name": "tf-latest",
   "language": "python",
   "name": "tf-latest"
  },
  "language_info": {
   "codemirror_mode": {
    "name": "ipython",
    "version": 3
   },
   "file_extension": ".py",
   "mimetype": "text/x-python",
   "name": "python",
   "nbconvert_exporter": "python",
   "pygments_lexer": "ipython3",
   "version": "3.8.10"
  }
 },
 "nbformat": 4,
 "nbformat_minor": 2
}
