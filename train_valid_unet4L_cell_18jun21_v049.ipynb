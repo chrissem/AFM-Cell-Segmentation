{
 "cells": [
  {
   "cell_type": "code",
   "execution_count": 1,
   "metadata": {},
   "outputs": [],
   "source": [
    "from model4LHzc import *\n",
    "from data_3ch import *\n",
    "\n",
    "vid=\"v049_5\" #version id should match the file number \n",
    "# The final number can be [1:5] and denote the cross-validation order\n",
    "# Ran DellWS with GeForce RTX3060 GPU\n",
    "\n",
    "# Modified the model4LHzc input dimension from 512x512x1 to 512x512x3"
   ]
  },
  {
   "cell_type": "markdown",
   "metadata": {},
   "source": [
    "### Train with data generator"
   ]
  },
  {
   "cell_type": "code",
   "execution_count": 2,
   "metadata": {},
   "outputs": [
    {
     "name": "stderr",
     "output_type": "stream",
     "text": [
      "C:\\Users\\tiryakiv\\miniconda3\\envs\\tf-latest\\lib\\site-packages\\tensorflow\\python\\keras\\optimizer_v2\\optimizer_v2.py:374: UserWarning: The `lr` argument is deprecated, use `learning_rate` instead.\n",
      "  warnings.warn(\n",
      "C:\\Users\\tiryakiv\\miniconda3\\envs\\tf-latest\\lib\\site-packages\\tensorflow\\python\\keras\\engine\\training.py:1940: UserWarning: `Model.fit_generator` is deprecated and will be removed in a future version. Please use `Model.fit`, which supports generators.\n",
      "  warnings.warn('`Model.fit_generator` is deprecated and '\n"
     ]
    },
    {
     "name": "stdout",
     "output_type": "stream",
     "text": [
      "Found 24 images belonging to 1 classes.\n",
      "Found 24 images belonging to 1 classes.\n",
      "Epoch 1/100\n",
      "160/160 [==============================] - ETA: 0s - loss: 0.2512 - acc: 0.8868 - dice_coef: 0.7488 - iou: 0.6180Found 6 images belonging to 1 classes.\n",
      "Found 6 images belonging to 1 classes.\n",
      "160/160 [==============================] - 91s 484ms/step - loss: 0.2512 - acc: 0.8868 - dice_coef: 0.7488 - iou: 0.6180 - val_loss: 0.9604 - val_acc: 0.7344 - val_dice_coef: 0.0396 - val_iou: 0.0202\n",
      "\n",
      "Epoch 00001: saving model to files\\unet_cell_seg_v049_5.hdf5\n",
      "Epoch 2/100\n",
      "160/160 [==============================] - 76s 479ms/step - loss: 0.1123 - acc: 0.9523 - dice_coef: 0.8877 - iou: 0.8034 - val_loss: 0.7097 - val_acc: 0.7650 - val_dice_coef: 0.2903 - val_iou: 0.1746\n",
      "\n",
      "Epoch 00002: saving model to files\\unet_cell_seg_v049_5.hdf5\n",
      "Epoch 3/100\n",
      "160/160 [==============================] - 73s 456ms/step - loss: 0.0830 - acc: 0.9627 - dice_coef: 0.9170 - iou: 0.8504 - val_loss: 0.3949 - val_acc: 0.8302 - val_dice_coef: 0.6051 - val_iou: 0.4365\n",
      "\n",
      "Epoch 00003: saving model to files\\unet_cell_seg_v049_5.hdf5\n",
      "Epoch 4/100\n",
      "160/160 [==============================] - 73s 456ms/step - loss: 0.0703 - acc: 0.9689 - dice_coef: 0.9297 - iou: 0.8724 - val_loss: 0.2476 - val_acc: 0.8835 - val_dice_coef: 0.7524 - val_iou: 0.6335\n",
      "\n",
      "Epoch 00004: saving model to files\\unet_cell_seg_v049_5.hdf5\n",
      "Epoch 5/100\n",
      "160/160 [==============================] - 73s 455ms/step - loss: 0.0728 - acc: 0.9672 - dice_coef: 0.9272 - iou: 0.8679 - val_loss: 0.1582 - val_acc: 0.9327 - val_dice_coef: 0.8418 - val_iou: 0.7421\n",
      "\n",
      "Epoch 00005: saving model to files\\unet_cell_seg_v049_5.hdf5\n",
      "Epoch 6/100\n",
      "160/160 [==============================] - 70s 440ms/step - loss: 0.0553 - acc: 0.9741 - dice_coef: 0.9447 - iou: 0.8967 - val_loss: 0.2208 - val_acc: 0.8310 - val_dice_coef: 0.7792 - val_iou: 0.6745\n",
      "\n",
      "Epoch 00006: saving model to files\\unet_cell_seg_v049_5.hdf5\n",
      "Epoch 7/100\n",
      "160/160 [==============================] - 72s 454ms/step - loss: 0.0532 - acc: 0.9752 - dice_coef: 0.9468 - iou: 0.9008 - val_loss: 0.2904 - val_acc: 0.8436 - val_dice_coef: 0.7096 - val_iou: 0.6069\n",
      "\n",
      "Epoch 00007: saving model to files\\unet_cell_seg_v049_5.hdf5\n",
      "Epoch 8/100\n",
      "160/160 [==============================] - 72s 450ms/step - loss: 0.0505 - acc: 0.9764 - dice_coef: 0.9495 - iou: 0.9050 - val_loss: 0.2582 - val_acc: 0.9372 - val_dice_coef: 0.7418 - val_iou: 0.6376\n",
      "\n",
      "Epoch 00008: saving model to files\\unet_cell_seg_v049_5.hdf5\n",
      "\n",
      "Epoch 00008: ReduceLROnPlateau reducing learning rate to 0.00010000000474974513.\n",
      "Epoch 9/100\n",
      "160/160 [==============================] - 70s 441ms/step - loss: 0.0464 - acc: 0.9785 - dice_coef: 0.9536 - iou: 0.9123 - val_loss: 0.2695 - val_acc: 0.9272 - val_dice_coef: 0.7305 - val_iou: 0.6291\n",
      "\n",
      "Epoch 00009: saving model to files\\unet_cell_seg_v049_5.hdf5\n",
      "Epoch 10/100\n",
      "160/160 [==============================] - 69s 434ms/step - loss: 0.0448 - acc: 0.9790 - dice_coef: 0.9552 - iou: 0.9149 - val_loss: 0.1565 - val_acc: 0.8917 - val_dice_coef: 0.8435 - val_iou: 0.7454\n",
      "\n",
      "Epoch 00010: saving model to files\\unet_cell_seg_v049_5.hdf5\n",
      "Epoch 11/100\n",
      "160/160 [==============================] - 69s 435ms/step - loss: 0.0454 - acc: 0.9790 - dice_coef: 0.9546 - iou: 0.9147 - val_loss: 0.1794 - val_acc: 0.8881 - val_dice_coef: 0.8206 - val_iou: 0.7196\n",
      "\n",
      "Epoch 00011: saving model to files\\unet_cell_seg_v049_5.hdf5\n",
      "Epoch 12/100\n",
      "160/160 [==============================] - 69s 435ms/step - loss: 0.0452 - acc: 0.9791 - dice_coef: 0.9548 - iou: 0.9149 - val_loss: 0.1909 - val_acc: 0.8822 - val_dice_coef: 0.8091 - val_iou: 0.7057\n",
      "\n",
      "Epoch 00012: saving model to files\\unet_cell_seg_v049_5.hdf5\n",
      "Epoch 13/100\n",
      "160/160 [==============================] - 69s 434ms/step - loss: 0.0466 - acc: 0.9790 - dice_coef: 0.9534 - iou: 0.9136 - val_loss: 0.2003 - val_acc: 0.8796 - val_dice_coef: 0.7997 - val_iou: 0.6932\n",
      "\n",
      "Epoch 00013: saving model to files\\unet_cell_seg_v049_5.hdf5\n",
      "\n",
      "Epoch 00013: ReduceLROnPlateau reducing learning rate to 1.0000000474974514e-05.\n",
      "Epoch 14/100\n",
      "160/160 [==============================] - 69s 433ms/step - loss: 0.0446 - acc: 0.9798 - dice_coef: 0.9554 - iou: 0.9160 - val_loss: 0.1615 - val_acc: 0.9041 - val_dice_coef: 0.8385 - val_iou: 0.7395\n",
      "\n",
      "Epoch 00014: saving model to files\\unet_cell_seg_v049_5.hdf5\n",
      "Epoch 15/100\n",
      "160/160 [==============================] - 69s 435ms/step - loss: 0.0425 - acc: 0.9802 - dice_coef: 0.9575 - iou: 0.9190 - val_loss: 0.1985 - val_acc: 0.8947 - val_dice_coef: 0.8015 - val_iou: 0.7007\n",
      "\n",
      "Epoch 00015: saving model to files\\unet_cell_seg_v049_5.hdf5\n",
      "Epoch 00015: early stopping\n"
     ]
    },
    {
     "data": {
      "text/plain": [
       "<tensorflow.python.keras.callbacks.History at 0x1aa63782940>"
      ]
     },
     "execution_count": 2,
     "metadata": {},
     "output_type": "execute_result"
    }
   ],
   "source": [
    "from tensorflow.keras.callbacks import ModelCheckpoint, ReduceLROnPlateau, EarlyStopping, CSVLogger\n",
    "\n",
    "#Data augmentation\n",
    "data_gen_args = dict(rotation_range=45,\n",
    "                    width_shift_range=0.05,\n",
    "                    height_shift_range=0.05,\n",
    "                    shear_range=0.05,\n",
    "                    zoom_range=0.05,\n",
    "                    horizontal_flip=True,\n",
    "                    vertical_flip=True,\n",
    "                    fill_mode='wrap')\n",
    "\n",
    "# SETTINGS ***\n",
    "batch_size=3\n",
    "learning_rate=1e-3\n",
    "\n",
    "train_gen = trainGenerator(batch_size,'afm_cell_512/train0'+vid[-1],'afmheideffri','labels',data_gen_args,save_to_dir = None)\n",
    "valid_gen = trainGenerator(batch_size,'afm_cell_512/valid0'+vid[-1],'afmheideffri','labels',data_gen_args,save_to_dir = None)\n",
    "\n",
    "# 24 images are used for training, 6 images for validating and 4 images for testing\n",
    "train_steps = 24//batch_size\n",
    "valid_steps = 6//batch_size\n",
    "\n",
    "# SETTINGS ***\n",
    "loss=dice_loss\n",
    "steps_per_epoch=20*train_steps\n",
    "num_epochs=100\n",
    "\n",
    "model = unet(learning_rate, loss)\n",
    "\n",
    "opt = tf.keras.optimizers.Adam(learning_rate)\n",
    "metrics = [\"acc\", dice_coef, iou]\n",
    "model.compile(loss=dice_loss, optimizer=opt, metrics=metrics)\n",
    "\n",
    "callbacks = [\n",
    "             ModelCheckpoint('files/unet_cell_seg_'+vid+'.hdf5', verbose=1, save_best_model=True),\n",
    "             ReduceLROnPlateau(monitor=\"val_loss\", patience=3, factor=0.1, verbose=1, min_lr=1e-8),\n",
    "             CSVLogger(\"files/data_\"+vid+\".csv\"),\n",
    "             EarlyStopping(monitor=\"val_loss\", patience=5, verbose=1)\n",
    "            ]\n",
    "\n",
    "model.fit_generator(train_gen, validation_data=valid_gen, steps_per_epoch=steps_per_epoch, validation_steps=valid_steps, \n",
    "                    epochs=num_epochs, callbacks=callbacks)\n"
   ]
  },
  {
   "cell_type": "markdown",
   "metadata": {},
   "source": [
    "### validate your model and save predicted results"
   ]
  },
  {
   "cell_type": "code",
   "execution_count": 3,
   "metadata": {},
   "outputs": [
    {
     "name": "stderr",
     "output_type": "stream",
     "text": [
      "C:\\Users\\tiryakiv\\miniconda3\\envs\\tf-latest\\lib\\site-packages\\tensorflow\\python\\keras\\engine\\training.py:2001: UserWarning: `Model.predict_generator` is deprecated and will be removed in a future version. Please use `Model.predict`, which supports generators.\n",
      "  warnings.warn('`Model.predict_generator` is deprecated and '\n"
     ]
    },
    {
     "name": "stdout",
     "output_type": "stream",
     "text": [
      "6/6 [==============================] - 2s 106ms/step\n"
     ]
    }
   ],
   "source": [
    "validGene = testGenerator(\"afm_cell_512/valid0\"+vid[-1]+\"/predhdf\")\n",
    "model.load_weights(\"files/unet_cell_seg_\"+vid+\".hdf5\")\n",
    "results = model.predict_generator(validGene,6,verbose=1)\n",
    "saveResult(\"afm_cell_512/valid0\"+vid[-1]+\"/predhdf\",results,vid[:4])"
   ]
  },
  {
   "cell_type": "code",
   "execution_count": null,
   "metadata": {},
   "outputs": [],
   "source": []
  }
 ],
 "metadata": {
  "kernelspec": {
   "display_name": "tf-latest",
   "language": "python",
   "name": "tf-latest"
  },
  "language_info": {
   "codemirror_mode": {
    "name": "ipython",
    "version": 3
   },
   "file_extension": ".py",
   "mimetype": "text/x-python",
   "name": "python",
   "nbconvert_exporter": "python",
   "pygments_lexer": "ipython3",
   "version": "3.8.10"
  }
 },
 "nbformat": 4,
 "nbformat_minor": 2
}
