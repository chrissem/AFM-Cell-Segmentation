{
 "cells": [
  {
   "cell_type": "code",
   "execution_count": 3,
   "metadata": {},
   "outputs": [],
   "source": [
    "from model5LHzc import *\n",
    "from data_1ch import *\n",
    "\n",
    "vid=\"v011_5\" #version id should match the file number \n",
    "# The final number can be [1:5] and denote the cross-validation order"
   ]
  },
  {
   "cell_type": "code",
   "execution_count": null,
   "metadata": {},
   "outputs": [],
   "source": [
    "model = unet()\n",
    "testGene = testGenerator(\"/test\")\n",
    "model.load_weights(\"files/unet_cell_seg_\"+vid+\".hdf5\")\n",
    "results = model.predict_generator(testGene,8,verbose=1)\n",
    "saveResult(\"test\",results,vid[:4])"
   ]
  },
  {
   "cell_type": "code",
   "execution_count": null,
   "metadata": {},
   "outputs": [],
   "source": []
  }
 ],
 "metadata": {
  "kernelspec": {
   "display_name": "Python 3.7 (tensorflow)",
   "language": "python",
   "name": "tensorflow"
  },
  "language_info": {
   "codemirror_mode": {
    "name": "ipython",
    "version": 3
   },
   "file_extension": ".py",
   "mimetype": "text/x-python",
   "name": "python",
   "nbconvert_exporter": "python",
   "pygments_lexer": "ipython3",
   "version": "3.7.6"
  }
 },
 "nbformat": 4,
 "nbformat_minor": 2
}
