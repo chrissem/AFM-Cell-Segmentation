{
 "cells": [
  {
   "cell_type": "code",
   "execution_count": 1,
   "metadata": {},
   "outputs": [],
   "source": [
    "from modelUnetVGG16 import *\n",
    "from data import *\n",
    "\n",
    "vid=\"v046_5\" #version id should match the file number \n",
    "# The final number can be [1:5] and denotes the cross-validation order\n",
    "# Ran DellWS with GeForce RTX3060 GPU"
   ]
  },
  {
   "cell_type": "markdown",
   "metadata": {},
   "source": [
    "### Train with data generator"
   ]
  },
  {
   "cell_type": "code",
   "execution_count": 2,
   "metadata": {},
   "outputs": [
    {
     "name": "stderr",
     "output_type": "stream",
     "text": [
      "C:\\Users\\tiryakiv\\miniconda3\\envs\\tf-latest\\lib\\site-packages\\tensorflow\\python\\keras\\engine\\training.py:1940: UserWarning: `Model.fit_generator` is deprecated and will be removed in a future version. Please use `Model.fit`, which supports generators.\n",
      "  warnings.warn('`Model.fit_generator` is deprecated and '\n"
     ]
    },
    {
     "name": "stdout",
     "output_type": "stream",
     "text": [
      "Found 24 images belonging to 1 classes.\n",
      "Found 24 images belonging to 1 classes.\n",
      "Epoch 1/100\n",
      "160/160 [==============================] - ETA: 0s - loss: 0.2667 - acc: 0.8766 - dice_coef: 0.7333 - iou: 0.5999Found 6 images belonging to 1 classes.\n",
      "Found 6 images belonging to 1 classes.\n",
      "160/160 [==============================] - 90s 448ms/step - loss: 0.2667 - acc: 0.8766 - dice_coef: 0.7333 - iou: 0.5999 - val_loss: 0.2818 - val_acc: 0.8649 - val_dice_coef: 0.7182 - val_iou: 0.5629\n",
      "\n",
      "Epoch 00001: saving model to files\\unet_cell_seg_v046_5.hdf5\n",
      "Epoch 2/100\n",
      "160/160 [==============================] - 71s 443ms/step - loss: 0.1765 - acc: 0.9306 - dice_coef: 0.8235 - iou: 0.7091 - val_loss: 0.1736 - val_acc: 0.9222 - val_dice_coef: 0.8264 - val_iou: 0.7043\n",
      "\n",
      "Epoch 00002: saving model to files\\unet_cell_seg_v046_5.hdf5\n",
      "Epoch 3/100\n",
      "160/160 [==============================] - 71s 444ms/step - loss: 0.1397 - acc: 0.9466 - dice_coef: 0.8603 - iou: 0.7606 - val_loss: 0.1406 - val_acc: 0.9536 - val_dice_coef: 0.8594 - val_iou: 0.7558\n",
      "\n",
      "Epoch 00003: saving model to files\\unet_cell_seg_v046_5.hdf5\n",
      "Epoch 4/100\n",
      "160/160 [==============================] - 71s 445ms/step - loss: 0.1207 - acc: 0.9560 - dice_coef: 0.8793 - iou: 0.7911 - val_loss: 0.1431 - val_acc: 0.9593 - val_dice_coef: 0.8569 - val_iou: 0.7502\n",
      "\n",
      "Epoch 00004: saving model to files\\unet_cell_seg_v046_5.hdf5\n",
      "Epoch 5/100\n",
      "160/160 [==============================] - 71s 445ms/step - loss: 0.1221 - acc: 0.9530 - dice_coef: 0.8779 - iou: 0.7901 - val_loss: 0.1532 - val_acc: 0.9244 - val_dice_coef: 0.8468 - val_iou: 0.7342\n",
      "\n",
      "Epoch 00005: saving model to files\\unet_cell_seg_v046_5.hdf5\n",
      "Epoch 6/100\n",
      "160/160 [==============================] - 71s 446ms/step - loss: 0.0902 - acc: 0.9652 - dice_coef: 0.9098 - iou: 0.8378 - val_loss: 0.1036 - val_acc: 0.9319 - val_dice_coef: 0.8964 - val_iou: 0.8133\n",
      "\n",
      "Epoch 00006: saving model to files\\unet_cell_seg_v046_5.hdf5\n",
      "Epoch 7/100\n",
      "160/160 [==============================] - 71s 446ms/step - loss: 0.0816 - acc: 0.9695 - dice_coef: 0.9184 - iou: 0.8522 - val_loss: 0.0844 - val_acc: 0.9610 - val_dice_coef: 0.9156 - val_iou: 0.8444\n",
      "\n",
      "Epoch 00007: saving model to files\\unet_cell_seg_v046_5.hdf5\n",
      "Epoch 8/100\n",
      "160/160 [==============================] - 72s 447ms/step - loss: 0.0758 - acc: 0.9713 - dice_coef: 0.9242 - iou: 0.8617 - val_loss: 0.1013 - val_acc: 0.9691 - val_dice_coef: 0.8987 - val_iou: 0.8168\n",
      "\n",
      "Epoch 00008: saving model to files\\unet_cell_seg_v046_5.hdf5\n",
      "Epoch 9/100\n",
      "160/160 [==============================] - 72s 447ms/step - loss: 0.0703 - acc: 0.9730 - dice_coef: 0.9297 - iou: 0.8709 - val_loss: 0.0857 - val_acc: 0.9626 - val_dice_coef: 0.9143 - val_iou: 0.8423\n",
      "\n",
      "Epoch 00009: saving model to files\\unet_cell_seg_v046_5.hdf5\n",
      "Epoch 10/100\n",
      "160/160 [==============================] - 71s 446ms/step - loss: 0.0743 - acc: 0.9690 - dice_coef: 0.9257 - iou: 0.8641 - val_loss: 0.0690 - val_acc: 0.9578 - val_dice_coef: 0.9310 - val_iou: 0.8710\n",
      "\n",
      "Epoch 00010: saving model to files\\unet_cell_seg_v046_5.hdf5\n",
      "Epoch 11/100\n",
      "160/160 [==============================] - 71s 446ms/step - loss: 0.0636 - acc: 0.9738 - dice_coef: 0.9364 - iou: 0.8822 - val_loss: 0.0836 - val_acc: 0.9618 - val_dice_coef: 0.9164 - val_iou: 0.8458\n",
      "\n",
      "Epoch 00011: saving model to files\\unet_cell_seg_v046_5.hdf5\n",
      "Epoch 12/100\n",
      "160/160 [==============================] - 71s 445ms/step - loss: 0.0598 - acc: 0.9758 - dice_coef: 0.9402 - iou: 0.8888 - val_loss: 0.0665 - val_acc: 0.9561 - val_dice_coef: 0.9335 - val_iou: 0.8753\n",
      "\n",
      "Epoch 00012: saving model to files\\unet_cell_seg_v046_5.hdf5\n",
      "Epoch 13/100\n",
      "160/160 [==============================] - 71s 445ms/step - loss: 0.0828 - acc: 0.9633 - dice_coef: 0.9172 - iou: 0.8508 - val_loss: 0.1266 - val_acc: 0.9286 - val_dice_coef: 0.8734 - val_iou: 0.7758\n",
      "\n",
      "Epoch 00013: saving model to files\\unet_cell_seg_v046_5.hdf5\n",
      "Epoch 14/100\n",
      "160/160 [==============================] - 71s 445ms/step - loss: 0.0666 - acc: 0.9713 - dice_coef: 0.9334 - iou: 0.8769 - val_loss: 0.0664 - val_acc: 0.9674 - val_dice_coef: 0.9336 - val_iou: 0.8756\n",
      "\n",
      "Epoch 00014: saving model to files\\unet_cell_seg_v046_5.hdf5\n",
      "Epoch 15/100\n",
      "160/160 [==============================] - 71s 445ms/step - loss: 0.0544 - acc: 0.9763 - dice_coef: 0.9456 - iou: 0.8978 - val_loss: 0.0759 - val_acc: 0.9632 - val_dice_coef: 0.9241 - val_iou: 0.8590\n",
      "\n",
      "Epoch 00015: saving model to files\\unet_cell_seg_v046_5.hdf5\n",
      "Epoch 16/100\n",
      "160/160 [==============================] - 71s 445ms/step - loss: 0.0543 - acc: 0.9769 - dice_coef: 0.9457 - iou: 0.8984 - val_loss: 0.0663 - val_acc: 0.9654 - val_dice_coef: 0.9337 - val_iou: 0.8757\n",
      "\n",
      "Epoch 00016: saving model to files\\unet_cell_seg_v046_5.hdf5\n",
      "Epoch 17/100\n",
      "160/160 [==============================] - 71s 446ms/step - loss: 0.0496 - acc: 0.9778 - dice_coef: 0.9504 - iou: 0.9064 - val_loss: 0.0672 - val_acc: 0.9667 - val_dice_coef: 0.9328 - val_iou: 0.8741\n",
      "\n",
      "Epoch 00017: saving model to files\\unet_cell_seg_v046_5.hdf5\n",
      "\n",
      "Epoch 00017: ReduceLROnPlateau reducing learning rate to 9.999999747378752e-06.\n",
      "Epoch 18/100\n",
      "160/160 [==============================] - 71s 445ms/step - loss: 0.0498 - acc: 0.9786 - dice_coef: 0.9502 - iou: 0.9063 - val_loss: 0.0690 - val_acc: 0.9570 - val_dice_coef: 0.9310 - val_iou: 0.8709\n",
      "\n",
      "Epoch 00018: saving model to files\\unet_cell_seg_v046_5.hdf5\n",
      "Epoch 19/100\n",
      "160/160 [==============================] - 71s 445ms/step - loss: 0.0490 - acc: 0.9788 - dice_coef: 0.9510 - iou: 0.9075 - val_loss: 0.0772 - val_acc: 0.9642 - val_dice_coef: 0.9228 - val_iou: 0.8570\n",
      "\n",
      "Epoch 00019: saving model to files\\unet_cell_seg_v046_5.hdf5\n",
      "Epoch 20/100\n",
      "160/160 [==============================] - 71s 445ms/step - loss: 0.0487 - acc: 0.9789 - dice_coef: 0.9513 - iou: 0.9083 - val_loss: 0.0703 - val_acc: 0.9688 - val_dice_coef: 0.9297 - val_iou: 0.8687\n",
      "\n",
      "Epoch 00020: saving model to files\\unet_cell_seg_v046_5.hdf5\n",
      "\n",
      "Epoch 00020: ReduceLROnPlateau reducing learning rate to 9.999999747378752e-07.\n",
      "Epoch 21/100\n",
      "160/160 [==============================] - 71s 445ms/step - loss: 0.0481 - acc: 0.9791 - dice_coef: 0.9519 - iou: 0.9092 - val_loss: 0.0701 - val_acc: 0.9666 - val_dice_coef: 0.9299 - val_iou: 0.8690\n",
      "\n",
      "Epoch 00021: saving model to files\\unet_cell_seg_v046_5.hdf5\n",
      "Epoch 00021: early stopping\n"
     ]
    },
    {
     "data": {
      "text/plain": [
       "<tensorflow.python.keras.callbacks.History at 0x27fa3e2e700>"
      ]
     },
     "execution_count": 2,
     "metadata": {},
     "output_type": "execute_result"
    }
   ],
   "source": [
    "from tensorflow.keras.callbacks import ModelCheckpoint, ReduceLROnPlateau, EarlyStopping, CSVLogger\n",
    "\n",
    "#Data augmentation\n",
    "data_gen_args = dict(rotation_range=45,\n",
    "                    width_shift_range=0.05,\n",
    "                    height_shift_range=0.05,\n",
    "                    shear_range=0.05,\n",
    "                    zoom_range=0.05,\n",
    "                    horizontal_flip=True,\n",
    "                    vertical_flip=True,\n",
    "                    fill_mode='wrap')\n",
    "\n",
    "batch_size=3\n",
    "learning_rate=1e-4\n",
    "loss=dice_loss\n",
    "\n",
    "train_gen = trainGenerator(batch_size,'afm_cell_512/train0'+vid[-1],'afmfriction','labels',data_gen_args,save_to_dir = None)\n",
    "valid_gen = trainGenerator(batch_size,'afm_cell_512/valid0'+vid[-1],'afmfriction','labels',data_gen_args,save_to_dir = None)\n",
    "\n",
    "# 24 images are used for training, 6 images for validating and 4 images for testing\n",
    "train_steps = 24//batch_size\n",
    "valid_steps = 6//batch_size\n",
    "\n",
    "model = build_vgg16_unet()\n",
    "\n",
    "opt = tf.keras.optimizers.Adam(learning_rate)\n",
    "metrics = [\"acc\", dice_coef, iou]\n",
    "model.compile(loss=loss, optimizer=opt, metrics=metrics)\n",
    "\n",
    "callbacks = [\n",
    "             ModelCheckpoint('files/unet_cell_seg_'+vid+'.hdf5', verbose=1, save_best_model=True),\n",
    "             ReduceLROnPlateau(monitor=\"val_loss\", patience=3, factor=0.1, verbose=1, min_lr=1e-8),\n",
    "             CSVLogger(\"files/data_\"+vid+\".csv\"),\n",
    "             EarlyStopping(monitor=\"val_loss\", patience=5, verbose=1)\n",
    "            ]\n",
    "\n",
    "model.fit_generator(train_gen, validation_data=valid_gen, steps_per_epoch=20*train_steps, validation_steps=valid_steps, \n",
    "                    epochs=100, callbacks=callbacks)\n"
   ]
  },
  {
   "cell_type": "markdown",
   "metadata": {},
   "source": [
    "### validate your model and save predicted results"
   ]
  },
  {
   "cell_type": "code",
   "execution_count": 3,
   "metadata": {},
   "outputs": [
    {
     "name": "stderr",
     "output_type": "stream",
     "text": [
      "C:\\Users\\tiryakiv\\miniconda3\\envs\\tf-latest\\lib\\site-packages\\tensorflow\\python\\keras\\engine\\training.py:2001: UserWarning: `Model.predict_generator` is deprecated and will be removed in a future version. Please use `Model.predict`, which supports generators.\n",
      "  warnings.warn('`Model.predict_generator` is deprecated and '\n"
     ]
    },
    {
     "name": "stdout",
     "output_type": "stream",
     "text": [
      "6/6 [==============================] - 5s 185ms/step\n"
     ]
    }
   ],
   "source": [
    "validGene = testGenerator(\"afm_cell_512/valid0\"+vid[-1]+\"/predf\")\n",
    "model.load_weights(\"files/unet_cell_seg_\"+vid+\".hdf5\")\n",
    "results = model.predict_generator(validGene,6,verbose=1)\n",
    "saveResult(\"afm_cell_512/valid0\"+vid[-1]+\"/predf\",results,vid[:4])"
   ]
  }
 ],
 "metadata": {
  "kernelspec": {
   "display_name": "tf-latest",
   "language": "python",
   "name": "tf-latest"
  },
  "language_info": {
   "codemirror_mode": {
    "name": "ipython",
    "version": 3
   },
   "file_extension": ".py",
   "mimetype": "text/x-python",
   "name": "python",
   "nbconvert_exporter": "python",
   "pygments_lexer": "ipython3",
   "version": "3.8.10"
  }
 },
 "nbformat": 4,
 "nbformat_minor": 2
}
